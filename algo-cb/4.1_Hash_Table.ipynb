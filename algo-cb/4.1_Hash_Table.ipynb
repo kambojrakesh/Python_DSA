{
  "nbformat": 4,
  "nbformat_minor": 0,
  "metadata": {
    "colab": {
      "name": " Hash_Table.ipynb",
      "provenance": [],
      "collapsed_sections": []
    },
    "kernelspec": {
      "name": "python3",
      "display_name": "Python 3"
    },
    "language_info": {
      "name": "python"
    }
  },
  "cells": [
    {
      "cell_type": "code",
      "execution_count": 84,
      "metadata": {
        "id": "LhR-Lkr0llTK"
      },
      "outputs": [],
      "source": [
        "class HashMap:\n",
        "  def __init__(self):\n",
        "    self.max = 10 \n",
        "    self.arr = [[] for x in range(10)]\n",
        "\n",
        "  def key(self, key):\n",
        "    count = 0 \n",
        "    for k in key:\n",
        "      count += ord(k)\n",
        "    return count%self.max\n",
        "\n",
        "  def __setitem__(self, key, value):\n",
        "    h  = self.key(key)\n",
        "    \n",
        "    found = False\n",
        "    for idx, element in enumerate(self.arr[h]):\n",
        "      if len(element) == 2 and element[0] == key:\n",
        "        found = True\n",
        "        break\n",
        "\n",
        "    if not found:\n",
        "        self.arr[h].append((key, value))\n",
        "\n",
        "  def __delitem__(self, key):\n",
        "    h  = self.key(key)\n",
        "\n",
        "    found = False\n",
        "    for idx, element in enumerate(self.arr[h]):\n",
        "      if len(element) == 2 and element[0] == key:\n",
        "        del self.arr[h][idx]\n",
        "\n",
        "  def __getitem__(self, key):\n",
        "    h  = self.key(key)\n",
        "\n",
        "    for kv  in self.arr[h]:\n",
        "      if kv[0] ==  key:\n",
        "        return kv[1]\n",
        "\n",
        "if __name__=='__main__':\n",
        "  hs = HashMap()\n",
        "\n",
        "  hs[\"march 6\"] = 11\n",
        "  hs[\"march 26\"] = 12\n",
        "  hs[\"march 16\"] = 13\n",
        "  hs[\"march 6\"] = 14\n"
      ]
    },
    {
      "cell_type": "code",
      "source": [
        "del hs[\"march 16\"]"
      ],
      "metadata": {
        "id": "cOWJ2B2q5Hj6"
      },
      "execution_count": 85,
      "outputs": []
    },
    {
      "cell_type": "code",
      "source": [
        "hs[\"march 16\"]"
      ],
      "metadata": {
        "id": "Ua73wTmy6tUx"
      },
      "execution_count": 87,
      "outputs": []
    }
  ]
}