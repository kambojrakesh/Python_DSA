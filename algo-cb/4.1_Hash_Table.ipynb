{
  "nbformat": 4,
  "nbformat_minor": 0,
  "metadata": {
    "colab": {
      "name": "Untitled39.ipynb",
      "provenance": [],
      "collapsed_sections": []
    },
    "kernelspec": {
      "name": "python3",
      "display_name": "Python 3"
    },
    "language_info": {
      "name": "python"
    }
  },
  "cells": [
    {
      "cell_type": "code",
      "execution_count": 106,
      "metadata": {
        "colab": {
          "base_uri": "https://localhost:8080/"
        },
        "id": "zh7bDFMVEdDn",
        "outputId": "60f9123c-7ba4-4f9f-d6f4-9cfa96fa62eb"
      },
      "outputs": [
        {
          "output_type": "stream",
          "name": "stdout",
          "text": [
            "100\n",
            "None\n"
          ]
        }
      ],
      "source": [
        "class HashTable:\n",
        "  def __init__(self):\n",
        "    self.max = 5\n",
        "    self.arr = [[] for x in range(self.max)]\n",
        "\n",
        "  def getKey(self, key):\n",
        "      hash = 0\n",
        "      for char in key:\n",
        "          hash += ord(char)\n",
        "      return hash % self.max\n",
        "\n",
        "  def insert(self, key, value):\n",
        "    index = self.getKey(key)\n",
        "    found = False\n",
        "\n",
        "    for idx, element in enumerate(self.arr[index]):\n",
        "        if len(element)==2 and element[0] == key:\n",
        "          #print(self.arr[index], \"+++++++++++++\", idx)\n",
        "          self.arr[index][idx] =  (key,value)\n",
        "          found = True\n",
        "    #print( \"=====================================================================\",self.arr)\n",
        "    if not found:\n",
        "      self.arr[index].append((key,value))\n",
        "\n",
        "\n",
        "  def get(self, key):\n",
        "      arr_index = self.getKey(key)\n",
        "      for kv in self.arr[arr_index]:\n",
        "          if kv[0] == key:\n",
        "              return kv[1]\n",
        "\n",
        "  def delet(self, key):\n",
        "    arr_index = self.getKey(key)\n",
        "    found = False\n",
        "    \n",
        "    for index, kv in enumerate(self.arr[arr_index]):\n",
        "      if kv[0] == key:\n",
        "        del self.arr[arr_index][index]\n",
        "\n",
        "\n",
        "        \n",
        "if __name__ == \"__main__\":\n",
        "  hs = HashTable()\n",
        "\n",
        "  hs.insert(\"test check1\", 1110)\n",
        "  hs.insert(\"test2 \", 100)\n",
        "  hs.insert(\"test che3\", 101)\n",
        "  hs.insert(\"test check4\", 1111)\n",
        "  hs.insert(\"test check4\", 2222)\n",
        "  hs.insert(\"test check4\", 3333)\n",
        "  hs.insert(\"test check5\", 100)\n",
        "  hs.insert(\"test check6\", 100)\n",
        "  print(hs.get(\"test check6\"))\n",
        "  hs.delet(\"test check6\")\n",
        "  print(hs.get(\"test check6\"))"
      ]
    },
    {
      "cell_type": "code",
      "source": [
        ""
      ],
      "metadata": {
        "id": "2ZOkc5q2FGKq"
      },
      "execution_count": 20,
      "outputs": []
    }
  ]
}