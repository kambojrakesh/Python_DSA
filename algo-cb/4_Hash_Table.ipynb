{
  "nbformat": 4,
  "nbformat_minor": 0,
  "metadata": {
    "colab": {
      "name": "Hash_Table.ipynb",
      "provenance": [],
      "collapsed_sections": []
    },
    "kernelspec": {
      "name": "python3",
      "display_name": "Python 3"
    },
    "language_info": {
      "name": "python"
    }
  },
  "cells": [
    {
      "cell_type": "code",
      "execution_count": 21,
      "metadata": {
        "id": "-8VRER6lgXaa"
      },
      "outputs": [],
      "source": [
        "class HashTable:\n",
        "\n",
        "  def __init__(self):\n",
        "    self.max = 100\n",
        "    self.arr = [None for i  in range(self.max)]\n",
        "\n",
        "  def hash(self, key):\n",
        "    h =0\n",
        "    for c in key:\n",
        "      h += ord(c)\n",
        "\n",
        "    return h%self.max\n",
        "\n",
        "  def __setitem__(self, key, value): # __setitem__ by default function it will help add ht[\"march 6\"] = 12 rather thn ht.add(\"march 6\", 12)\n",
        "    key = hash(key)\n",
        "    self.arr[key] = value\n",
        "\n",
        "  def __getitem__(self, key):\n",
        "    key = hash(key)\n",
        "    print(self.arr[key])\n",
        "\n",
        "  def __delitem__(self, key):\n",
        "    key = hash(key)\n",
        "    self.arr[key] = None\n",
        "\n",
        "ht = HashTable()\n",
        "ht[\"march 6\"] = 12\n",
        "ht[\"march 12\"] = 12"
      ]
    },
    {
      "cell_type": "code",
      "source": [
        "ht[\"march 6\"]"
      ],
      "metadata": {
        "colab": {
          "base_uri": "https://localhost:8080/"
        },
        "id": "MTobBkjYn0WH",
        "outputId": "aca4104e-b0eb-4f5e-b948-9fef02e9c5f6"
      },
      "execution_count": 22,
      "outputs": [
        {
          "output_type": "stream",
          "name": "stdout",
          "text": [
            "12\n"
          ]
        }
      ]
    },
    {
      "cell_type": "code",
      "source": [
        "del ht[\"march 6\"]"
      ],
      "metadata": {
        "id": "pbIhFeJne9wA"
      },
      "execution_count": 23,
      "outputs": []
    },
    {
      "cell_type": "code",
      "source": [
        "ht[\"march 6\"]"
      ],
      "metadata": {
        "id": "_HC6QPECfGg7",
        "outputId": "723e81a3-7d74-448a-c60e-9a07a43069d3",
        "colab": {
          "base_uri": "https://localhost:8080/"
        }
      },
      "execution_count": 24,
      "outputs": [
        {
          "output_type": "stream",
          "name": "stdout",
          "text": [
            "None\n"
          ]
        }
      ]
    }
  ]
}